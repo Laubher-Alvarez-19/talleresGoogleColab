{
  "nbformat": 4,
  "nbformat_minor": 0,
  "metadata": {
    "colab": {
      "provenance": [],
      "authorship_tag": "ABX9TyOasbVlTvmVKe6l+TwPlN9Z",
      "include_colab_link": true
    },
    "kernelspec": {
      "name": "python3",
      "display_name": "Python 3"
    },
    "language_info": {
      "name": "python"
    }
  },
  "cells": [
    {
      "cell_type": "markdown",
      "metadata": {
        "id": "view-in-github",
        "colab_type": "text"
      },
      "source": [
        "<a href=\"https://colab.research.google.com/github/Laubher-Alvarez-19/talleresGoogleColab/blob/main/Untitled1_IDO.ipynb\" target=\"_parent\"><img src=\"https://colab.research.google.com/assets/colab-badge.svg\" alt=\"Open In Colab\"/></a>"
      ]
    },
    {
      "cell_type": "markdown",
      "source": [
        "# Taller 00\n"
      ],
      "metadata": {
        "id": "M5GCMdW3lSJK"
      }
    },
    {
      "cell_type": "code",
      "source": [
        "# imprimir hola mundo\n",
        "print('hola mundo')"
      ],
      "metadata": {
        "colab": {
          "base_uri": "https://localhost:8080/"
        },
        "id": "RixQRtcIlYpJ",
        "outputId": "b60a9250-8bff-4216-c723-68942ba0eacb"
      },
      "execution_count": 1,
      "outputs": [
        {
          "output_type": "stream",
          "name": "stdout",
          "text": [
            "hola mundo\n"
          ]
        }
      ]
    },
    {
      "cell_type": "markdown",
      "source": [
        "# Subtitulo\n",
        "\n",
        "ejemplo **de** clase\n",
        "\n"
      ],
      "metadata": {
        "id": "UIT4VaRnnxte"
      }
    },
    {
      "cell_type": "code",
      "source": [
        "print()"
      ],
      "metadata": {
        "id": "gAHAt1qXoauY"
      },
      "execution_count": null,
      "outputs": []
    },
    {
      "cell_type": "markdown",
      "source": [
        "# Actualización de contenido"
      ],
      "metadata": {
        "id": "XZiiJSJxsppX"
      }
    },
    {
      "cell_type": "markdown",
      "source": [
        "# pregunta inicial a chat\n",
        "\n",
        "link de la pregunta: https://chat.openai.com/share/a8486f9d-9e67-448b-82a6-e20a595bc199"
      ],
      "metadata": {
        "id": "FpR1yUXWuXC3"
      }
    }
  ]
}